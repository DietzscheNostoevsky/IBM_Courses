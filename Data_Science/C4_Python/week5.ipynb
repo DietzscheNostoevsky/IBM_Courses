{
 "cells": [
  {
   "cell_type": "markdown",
   "metadata": {},
   "source": [
    "Working with REST APIs \n",
    "CoinGeckoAPI"
   ]
  },
  {
   "cell_type": "code",
   "execution_count": 9,
   "metadata": {},
   "outputs": [],
   "source": [
    "from pycoingecko import CoinGeckoAPI\n",
    "cg = CoinGeckoAPI()\n",
    "bitcoin_data = cg.get_coin_market_chart_by_id(id='bitcoin', vs_currency='inr' , days = 30)"
   ]
  },
  {
   "cell_type": "code",
   "execution_count": 10,
   "metadata": {},
   "outputs": [
    {
     "data": {
      "text/plain": [
       "[[1667502117042, 1675285.5757107201],\n",
       " [1667505683228, 1674488.4805740379],\n",
       " [1667509239541, 1674108.0429320056]]"
      ]
     },
     "execution_count": 10,
     "metadata": {},
     "output_type": "execute_result"
    }
   ],
   "source": [
    "bitcoin_data['prices'][:3]"
   ]
  },
  {
   "cell_type": "code",
   "execution_count": 11,
   "metadata": {},
   "outputs": [
    {
     "data": {
      "text/plain": [
       "[[1667502117042, 1675285.5757107201],\n",
       " [1667505683228, 1674488.4805740379],\n",
       " [1667509239541, 1674108.0429320056],\n",
       " [1667512813230, 1674715.3435067774],\n",
       " [1667516492454, 1669291.9000057394]]"
      ]
     },
     "execution_count": 11,
     "metadata": {},
     "output_type": "execute_result"
    }
   ],
   "source": [
    "bitcoin_price_data = bitcoin_data['prices']\n",
    "\n",
    "bitcoin_price_data[0:5]\n"
   ]
  },
  {
   "cell_type": "markdown",
   "metadata": {},
   "source": [
    "Converting the list to a DataFrame"
   ]
  },
  {
   "cell_type": "code",
   "execution_count": 12,
   "metadata": {},
   "outputs": [],
   "source": [
    "import pandas as pd\n",
    "data = pd.DataFrame(bitcoin_price_data , columns=[\"Timestamp\" , \"Price\"])"
   ]
  },
  {
   "cell_type": "code",
   "execution_count": 13,
   "metadata": {},
   "outputs": [
    {
     "data": {
      "text/html": [
       "<div>\n",
       "<style scoped>\n",
       "    .dataframe tbody tr th:only-of-type {\n",
       "        vertical-align: middle;\n",
       "    }\n",
       "\n",
       "    .dataframe tbody tr th {\n",
       "        vertical-align: top;\n",
       "    }\n",
       "\n",
       "    .dataframe thead th {\n",
       "        text-align: right;\n",
       "    }\n",
       "</style>\n",
       "<table border=\"1\" class=\"dataframe\">\n",
       "  <thead>\n",
       "    <tr style=\"text-align: right;\">\n",
       "      <th></th>\n",
       "      <th>Timestamp</th>\n",
       "      <th>Price</th>\n",
       "    </tr>\n",
       "  </thead>\n",
       "  <tbody>\n",
       "    <tr>\n",
       "      <th>0</th>\n",
       "      <td>1667502117042</td>\n",
       "      <td>1.675286e+06</td>\n",
       "    </tr>\n",
       "    <tr>\n",
       "      <th>1</th>\n",
       "      <td>1667505683228</td>\n",
       "      <td>1.674488e+06</td>\n",
       "    </tr>\n",
       "    <tr>\n",
       "      <th>2</th>\n",
       "      <td>1667509239541</td>\n",
       "      <td>1.674108e+06</td>\n",
       "    </tr>\n",
       "    <tr>\n",
       "      <th>3</th>\n",
       "      <td>1667512813230</td>\n",
       "      <td>1.674715e+06</td>\n",
       "    </tr>\n",
       "    <tr>\n",
       "      <th>4</th>\n",
       "      <td>1667516492454</td>\n",
       "      <td>1.669292e+06</td>\n",
       "    </tr>\n",
       "  </tbody>\n",
       "</table>\n",
       "</div>"
      ],
      "text/plain": [
       "       Timestamp         Price\n",
       "0  1667502117042  1.675286e+06\n",
       "1  1667505683228  1.674488e+06\n",
       "2  1667509239541  1.674108e+06\n",
       "3  1667512813230  1.674715e+06\n",
       "4  1667516492454  1.669292e+06"
      ]
     },
     "execution_count": 13,
     "metadata": {},
     "output_type": "execute_result"
    }
   ],
   "source": [
    "data.head()"
   ]
  },
  {
   "cell_type": "markdown",
   "metadata": {},
   "source": [
    "Now that we have the DataFrame we will convert the timestamp to datetime and save it as a column called <code>Date</code>. We will map our <code>unix_to_datetime</code> to each timestamp and convert it to a readable datetime.\n"
   ]
  },
  {
   "cell_type": "code",
   "execution_count": 15,
   "metadata": {},
   "outputs": [],
   "source": [
    "import datetime\n",
    "data['date'] = data['Timestamp'].apply(lambda d: datetime.date.fromtimestamp(d/1000.0))"
   ]
  },
  {
   "cell_type": "code",
   "execution_count": 16,
   "metadata": {},
   "outputs": [
    {
     "data": {
      "text/html": [
       "<div>\n",
       "<style scoped>\n",
       "    .dataframe tbody tr th:only-of-type {\n",
       "        vertical-align: middle;\n",
       "    }\n",
       "\n",
       "    .dataframe tbody tr th {\n",
       "        vertical-align: top;\n",
       "    }\n",
       "\n",
       "    .dataframe thead th {\n",
       "        text-align: right;\n",
       "    }\n",
       "</style>\n",
       "<table border=\"1\" class=\"dataframe\">\n",
       "  <thead>\n",
       "    <tr style=\"text-align: right;\">\n",
       "      <th></th>\n",
       "      <th>Timestamp</th>\n",
       "      <th>Price</th>\n",
       "      <th>date</th>\n",
       "    </tr>\n",
       "  </thead>\n",
       "  <tbody>\n",
       "    <tr>\n",
       "      <th>0</th>\n",
       "      <td>1667502117042</td>\n",
       "      <td>1.675286e+06</td>\n",
       "      <td>2022-11-04</td>\n",
       "    </tr>\n",
       "    <tr>\n",
       "      <th>1</th>\n",
       "      <td>1667505683228</td>\n",
       "      <td>1.674488e+06</td>\n",
       "      <td>2022-11-04</td>\n",
       "    </tr>\n",
       "    <tr>\n",
       "      <th>2</th>\n",
       "      <td>1667509239541</td>\n",
       "      <td>1.674108e+06</td>\n",
       "      <td>2022-11-04</td>\n",
       "    </tr>\n",
       "    <tr>\n",
       "      <th>3</th>\n",
       "      <td>1667512813230</td>\n",
       "      <td>1.674715e+06</td>\n",
       "      <td>2022-11-04</td>\n",
       "    </tr>\n",
       "    <tr>\n",
       "      <th>4</th>\n",
       "      <td>1667516492454</td>\n",
       "      <td>1.669292e+06</td>\n",
       "      <td>2022-11-04</td>\n",
       "    </tr>\n",
       "  </tbody>\n",
       "</table>\n",
       "</div>"
      ],
      "text/plain": [
       "       Timestamp         Price        date\n",
       "0  1667502117042  1.675286e+06  2022-11-04\n",
       "1  1667505683228  1.674488e+06  2022-11-04\n",
       "2  1667509239541  1.674108e+06  2022-11-04\n",
       "3  1667512813230  1.674715e+06  2022-11-04\n",
       "4  1667516492454  1.669292e+06  2022-11-04"
      ]
     },
     "execution_count": 16,
     "metadata": {},
     "output_type": "execute_result"
    }
   ],
   "source": [
    "data.head()"
   ]
  },
  {
   "cell_type": "markdown",
   "metadata": {},
   "source": [
    "Using this modified dataset we can now group by the <code>Date</code> and find the min, max, open, and close for the candlesticks.\n"
   ]
  },
  {
   "cell_type": "code",
   "execution_count": 17,
   "metadata": {},
   "outputs": [],
   "source": [
    "candlestick_data = data.groupby(data.date, as_index=False).agg(\n",
    "    {\"Price\": ['min', 'max', 'first', 'last']})\n"
   ]
  },
  {
   "cell_type": "code",
   "execution_count": 21,
   "metadata": {},
   "outputs": [
    {
     "data": {
      "text/html": [
       "<div>\n",
       "<style scoped>\n",
       "    .dataframe tbody tr th:only-of-type {\n",
       "        vertical-align: middle;\n",
       "    }\n",
       "\n",
       "    .dataframe tbody tr th {\n",
       "        vertical-align: top;\n",
       "    }\n",
       "\n",
       "    .dataframe thead tr th {\n",
       "        text-align: left;\n",
       "    }\n",
       "</style>\n",
       "<table border=\"1\" class=\"dataframe\">\n",
       "  <thead>\n",
       "    <tr>\n",
       "      <th></th>\n",
       "      <th>date</th>\n",
       "      <th colspan=\"4\" halign=\"left\">Price</th>\n",
       "    </tr>\n",
       "    <tr>\n",
       "      <th></th>\n",
       "      <th></th>\n",
       "      <th>min</th>\n",
       "      <th>max</th>\n",
       "      <th>first</th>\n",
       "      <th>last</th>\n",
       "    </tr>\n",
       "  </thead>\n",
       "  <tbody>\n",
       "    <tr>\n",
       "      <th>0</th>\n",
       "      <td>2022-11-04</td>\n",
       "      <td>1.669292e+06</td>\n",
       "      <td>1.742515e+06</td>\n",
       "      <td>1.675286e+06</td>\n",
       "      <td>1.707075e+06</td>\n",
       "    </tr>\n",
       "    <tr>\n",
       "      <th>1</th>\n",
       "      <td>2022-11-05</td>\n",
       "      <td>1.723656e+06</td>\n",
       "      <td>1.755157e+06</td>\n",
       "      <td>1.723656e+06</td>\n",
       "      <td>1.748064e+06</td>\n",
       "    </tr>\n",
       "    <tr>\n",
       "      <th>2</th>\n",
       "      <td>2022-11-06</td>\n",
       "      <td>1.733793e+06</td>\n",
       "      <td>1.749073e+06</td>\n",
       "      <td>1.744375e+06</td>\n",
       "      <td>1.739756e+06</td>\n",
       "    </tr>\n",
       "    <tr>\n",
       "      <th>3</th>\n",
       "      <td>2022-11-07</td>\n",
       "      <td>1.692764e+06</td>\n",
       "      <td>1.739860e+06</td>\n",
       "      <td>1.739860e+06</td>\n",
       "      <td>1.692764e+06</td>\n",
       "    </tr>\n",
       "    <tr>\n",
       "      <th>4</th>\n",
       "      <td>2022-11-08</td>\n",
       "      <td>1.579215e+06</td>\n",
       "      <td>1.707686e+06</td>\n",
       "      <td>1.694246e+06</td>\n",
       "      <td>1.601507e+06</td>\n",
       "    </tr>\n",
       "    <tr>\n",
       "      <th>5</th>\n",
       "      <td>2022-11-09</td>\n",
       "      <td>1.386121e+06</td>\n",
       "      <td>1.523173e+06</td>\n",
       "      <td>1.523173e+06</td>\n",
       "      <td>1.386121e+06</td>\n",
       "    </tr>\n",
       "    <tr>\n",
       "      <th>6</th>\n",
       "      <td>2022-11-10</td>\n",
       "      <td>1.280554e+06</td>\n",
       "      <td>1.442257e+06</td>\n",
       "      <td>1.337982e+06</td>\n",
       "      <td>1.394824e+06</td>\n",
       "    </tr>\n",
       "    <tr>\n",
       "      <th>7</th>\n",
       "      <td>2022-11-11</td>\n",
       "      <td>1.354731e+06</td>\n",
       "      <td>1.440305e+06</td>\n",
       "      <td>1.399444e+06</td>\n",
       "      <td>1.354731e+06</td>\n",
       "    </tr>\n",
       "    <tr>\n",
       "      <th>8</th>\n",
       "      <td>2022-11-12</td>\n",
       "      <td>1.338180e+06</td>\n",
       "      <td>1.375740e+06</td>\n",
       "      <td>1.356469e+06</td>\n",
       "      <td>1.361815e+06</td>\n",
       "    </tr>\n",
       "    <tr>\n",
       "      <th>9</th>\n",
       "      <td>2022-11-13</td>\n",
       "      <td>1.331424e+06</td>\n",
       "      <td>1.361566e+06</td>\n",
       "      <td>1.358483e+06</td>\n",
       "      <td>1.332396e+06</td>\n",
       "    </tr>\n",
       "    <tr>\n",
       "      <th>10</th>\n",
       "      <td>2022-11-14</td>\n",
       "      <td>1.293748e+06</td>\n",
       "      <td>1.379135e+06</td>\n",
       "      <td>1.329584e+06</td>\n",
       "      <td>1.343792e+06</td>\n",
       "    </tr>\n",
       "    <tr>\n",
       "      <th>11</th>\n",
       "      <td>2022-11-15</td>\n",
       "      <td>1.320183e+06</td>\n",
       "      <td>1.380079e+06</td>\n",
       "      <td>1.347592e+06</td>\n",
       "      <td>1.376902e+06</td>\n",
       "    </tr>\n",
       "    <tr>\n",
       "      <th>12</th>\n",
       "      <td>2022-11-16</td>\n",
       "      <td>1.341004e+06</td>\n",
       "      <td>1.382809e+06</td>\n",
       "      <td>1.354311e+06</td>\n",
       "      <td>1.350233e+06</td>\n",
       "    </tr>\n",
       "    <tr>\n",
       "      <th>13</th>\n",
       "      <td>2022-11-17</td>\n",
       "      <td>1.346489e+06</td>\n",
       "      <td>1.361252e+06</td>\n",
       "      <td>1.348925e+06</td>\n",
       "      <td>1.359168e+06</td>\n",
       "    </tr>\n",
       "    <tr>\n",
       "      <th>14</th>\n",
       "      <td>2022-11-18</td>\n",
       "      <td>1.354961e+06</td>\n",
       "      <td>1.381672e+06</td>\n",
       "      <td>1.363913e+06</td>\n",
       "      <td>1.354961e+06</td>\n",
       "    </tr>\n",
       "    <tr>\n",
       "      <th>15</th>\n",
       "      <td>2022-11-19</td>\n",
       "      <td>1.354220e+06</td>\n",
       "      <td>1.361958e+06</td>\n",
       "      <td>1.354419e+06</td>\n",
       "      <td>1.354989e+06</td>\n",
       "    </tr>\n",
       "    <tr>\n",
       "      <th>16</th>\n",
       "      <td>2022-11-20</td>\n",
       "      <td>1.350103e+06</td>\n",
       "      <td>1.365447e+06</td>\n",
       "      <td>1.355766e+06</td>\n",
       "      <td>1.350103e+06</td>\n",
       "    </tr>\n",
       "    <tr>\n",
       "      <th>17</th>\n",
       "      <td>2022-11-21</td>\n",
       "      <td>1.311110e+06</td>\n",
       "      <td>1.352327e+06</td>\n",
       "      <td>1.352327e+06</td>\n",
       "      <td>1.312184e+06</td>\n",
       "    </tr>\n",
       "    <tr>\n",
       "      <th>18</th>\n",
       "      <td>2022-11-22</td>\n",
       "      <td>1.280231e+06</td>\n",
       "      <td>1.325613e+06</td>\n",
       "      <td>1.307634e+06</td>\n",
       "      <td>1.316622e+06</td>\n",
       "    </tr>\n",
       "    <tr>\n",
       "      <th>19</th>\n",
       "      <td>2022-11-23</td>\n",
       "      <td>1.319486e+06</td>\n",
       "      <td>1.360376e+06</td>\n",
       "      <td>1.319486e+06</td>\n",
       "      <td>1.338373e+06</td>\n",
       "    </tr>\n",
       "    <tr>\n",
       "      <th>20</th>\n",
       "      <td>2022-11-24</td>\n",
       "      <td>1.346233e+06</td>\n",
       "      <td>1.367583e+06</td>\n",
       "      <td>1.348229e+06</td>\n",
       "      <td>1.357010e+06</td>\n",
       "    </tr>\n",
       "    <tr>\n",
       "      <th>21</th>\n",
       "      <td>2022-11-25</td>\n",
       "      <td>1.336925e+06</td>\n",
       "      <td>1.356737e+06</td>\n",
       "      <td>1.354085e+06</td>\n",
       "      <td>1.349115e+06</td>\n",
       "    </tr>\n",
       "    <tr>\n",
       "      <th>22</th>\n",
       "      <td>2022-11-26</td>\n",
       "      <td>1.346535e+06</td>\n",
       "      <td>1.359816e+06</td>\n",
       "      <td>1.346535e+06</td>\n",
       "      <td>1.350170e+06</td>\n",
       "    </tr>\n",
       "    <tr>\n",
       "      <th>23</th>\n",
       "      <td>2022-11-27</td>\n",
       "      <td>1.341280e+06</td>\n",
       "      <td>1.354204e+06</td>\n",
       "      <td>1.347609e+06</td>\n",
       "      <td>1.350237e+06</td>\n",
       "    </tr>\n",
       "    <tr>\n",
       "      <th>24</th>\n",
       "      <td>2022-11-28</td>\n",
       "      <td>1.317958e+06</td>\n",
       "      <td>1.355543e+06</td>\n",
       "      <td>1.351781e+06</td>\n",
       "      <td>1.324376e+06</td>\n",
       "    </tr>\n",
       "    <tr>\n",
       "      <th>25</th>\n",
       "      <td>2022-11-29</td>\n",
       "      <td>1.320260e+06</td>\n",
       "      <td>1.350903e+06</td>\n",
       "      <td>1.320260e+06</td>\n",
       "      <td>1.337931e+06</td>\n",
       "    </tr>\n",
       "    <tr>\n",
       "      <th>26</th>\n",
       "      <td>2022-11-30</td>\n",
       "      <td>1.340063e+06</td>\n",
       "      <td>1.388663e+06</td>\n",
       "      <td>1.340063e+06</td>\n",
       "      <td>1.365249e+06</td>\n",
       "    </tr>\n",
       "    <tr>\n",
       "      <th>27</th>\n",
       "      <td>2022-12-01</td>\n",
       "      <td>1.380161e+06</td>\n",
       "      <td>1.400725e+06</td>\n",
       "      <td>1.381144e+06</td>\n",
       "      <td>1.383570e+06</td>\n",
       "    </tr>\n",
       "    <tr>\n",
       "      <th>28</th>\n",
       "      <td>2022-12-02</td>\n",
       "      <td>1.370811e+06</td>\n",
       "      <td>1.388749e+06</td>\n",
       "      <td>1.374939e+06</td>\n",
       "      <td>1.384048e+06</td>\n",
       "    </tr>\n",
       "    <tr>\n",
       "      <th>29</th>\n",
       "      <td>2022-12-03</td>\n",
       "      <td>1.379702e+06</td>\n",
       "      <td>1.396100e+06</td>\n",
       "      <td>1.381668e+06</td>\n",
       "      <td>1.383265e+06</td>\n",
       "    </tr>\n",
       "    <tr>\n",
       "      <th>30</th>\n",
       "      <td>2022-12-04</td>\n",
       "      <td>1.383718e+06</td>\n",
       "      <td>1.383718e+06</td>\n",
       "      <td>1.383718e+06</td>\n",
       "      <td>1.383718e+06</td>\n",
       "    </tr>\n",
       "  </tbody>\n",
       "</table>\n",
       "</div>"
      ],
      "text/plain": [
       "          date         Price                                          \n",
       "                         min           max         first          last\n",
       "0   2022-11-04  1.669292e+06  1.742515e+06  1.675286e+06  1.707075e+06\n",
       "1   2022-11-05  1.723656e+06  1.755157e+06  1.723656e+06  1.748064e+06\n",
       "2   2022-11-06  1.733793e+06  1.749073e+06  1.744375e+06  1.739756e+06\n",
       "3   2022-11-07  1.692764e+06  1.739860e+06  1.739860e+06  1.692764e+06\n",
       "4   2022-11-08  1.579215e+06  1.707686e+06  1.694246e+06  1.601507e+06\n",
       "5   2022-11-09  1.386121e+06  1.523173e+06  1.523173e+06  1.386121e+06\n",
       "6   2022-11-10  1.280554e+06  1.442257e+06  1.337982e+06  1.394824e+06\n",
       "7   2022-11-11  1.354731e+06  1.440305e+06  1.399444e+06  1.354731e+06\n",
       "8   2022-11-12  1.338180e+06  1.375740e+06  1.356469e+06  1.361815e+06\n",
       "9   2022-11-13  1.331424e+06  1.361566e+06  1.358483e+06  1.332396e+06\n",
       "10  2022-11-14  1.293748e+06  1.379135e+06  1.329584e+06  1.343792e+06\n",
       "11  2022-11-15  1.320183e+06  1.380079e+06  1.347592e+06  1.376902e+06\n",
       "12  2022-11-16  1.341004e+06  1.382809e+06  1.354311e+06  1.350233e+06\n",
       "13  2022-11-17  1.346489e+06  1.361252e+06  1.348925e+06  1.359168e+06\n",
       "14  2022-11-18  1.354961e+06  1.381672e+06  1.363913e+06  1.354961e+06\n",
       "15  2022-11-19  1.354220e+06  1.361958e+06  1.354419e+06  1.354989e+06\n",
       "16  2022-11-20  1.350103e+06  1.365447e+06  1.355766e+06  1.350103e+06\n",
       "17  2022-11-21  1.311110e+06  1.352327e+06  1.352327e+06  1.312184e+06\n",
       "18  2022-11-22  1.280231e+06  1.325613e+06  1.307634e+06  1.316622e+06\n",
       "19  2022-11-23  1.319486e+06  1.360376e+06  1.319486e+06  1.338373e+06\n",
       "20  2022-11-24  1.346233e+06  1.367583e+06  1.348229e+06  1.357010e+06\n",
       "21  2022-11-25  1.336925e+06  1.356737e+06  1.354085e+06  1.349115e+06\n",
       "22  2022-11-26  1.346535e+06  1.359816e+06  1.346535e+06  1.350170e+06\n",
       "23  2022-11-27  1.341280e+06  1.354204e+06  1.347609e+06  1.350237e+06\n",
       "24  2022-11-28  1.317958e+06  1.355543e+06  1.351781e+06  1.324376e+06\n",
       "25  2022-11-29  1.320260e+06  1.350903e+06  1.320260e+06  1.337931e+06\n",
       "26  2022-11-30  1.340063e+06  1.388663e+06  1.340063e+06  1.365249e+06\n",
       "27  2022-12-01  1.380161e+06  1.400725e+06  1.381144e+06  1.383570e+06\n",
       "28  2022-12-02  1.370811e+06  1.388749e+06  1.374939e+06  1.384048e+06\n",
       "29  2022-12-03  1.379702e+06  1.396100e+06  1.381668e+06  1.383265e+06\n",
       "30  2022-12-04  1.383718e+06  1.383718e+06  1.383718e+06  1.383718e+06"
      ]
     },
     "execution_count": 21,
     "metadata": {},
     "output_type": "execute_result"
    }
   ],
   "source": [
    "candlestick_data"
   ]
  },
  {
   "cell_type": "markdown",
   "metadata": {},
   "source": [
    "Plotting"
   ]
  },
  {
   "cell_type": "code",
   "execution_count": 19,
   "metadata": {},
   "outputs": [
    {
     "data": {
      "application/vnd.plotly.v1+json": {
       "config": {
        "plotlyServerURL": "https://plot.ly"
       },
       "data": [
        {
         "close": [
          1707075.0706234963,
          1748064.274787049,
          1739756.0308274669,
          1692763.6031621215,
          1601507.1482438531,
          1386120.9283060373,
          1394823.8643256198,
          1354731.3089207031,
          1361815.1296839914,
          1332396.0073065436,
          1343791.8699441892,
          1376901.7524248145,
          1350233.0539221466,
          1359168.3865702301,
          1354960.565709453,
          1354988.929091839,
          1350102.8139582123,
          1312183.5991908058,
          1316621.7500393302,
          1338372.9889664443,
          1357009.9680371631,
          1349115.3318157564,
          1350169.8518011263,
          1350236.891727672,
          1324375.583458529,
          1337930.8219681461,
          1365248.574286199,
          1383570.4986574415,
          1384048.3501137008,
          1383265.1332324354,
          1383717.6041727567
         ],
         "high": [
          1742514.7069099941,
          1755157.3763715818,
          1749073.2317455374,
          1739860.2750526802,
          1707685.6974097202,
          1523173.0085569627,
          1442257.3713972254,
          1440304.6713571947,
          1375740.4051045394,
          1361565.9333386866,
          1379135.1927927404,
          1380079.1257484574,
          1382808.5425607278,
          1361251.5343210339,
          1381671.5742276572,
          1361958.1676452556,
          1365446.9235315337,
          1352327.3338302386,
          1325612.892515988,
          1360375.740096428,
          1367582.696294025,
          1356737.2404964454,
          1359816.202809344,
          1354203.9436029373,
          1355543.4962654463,
          1350903.247556911,
          1388663.442215642,
          1400724.9544012118,
          1388748.6666319328,
          1396099.6872212929,
          1383717.6041727567
         ],
         "low": [
          1669291.9000057394,
          1723655.9579088083,
          1733792.5241420171,
          1692763.6031621215,
          1579215.022870102,
          1386120.9283060373,
          1280554.289383769,
          1354731.3089207031,
          1338179.5656543667,
          1331424.008013909,
          1293748.0237226828,
          1320183.2496206777,
          1341003.6048110027,
          1346488.8217255527,
          1354960.565709453,
          1354219.750396775,
          1350102.8139582123,
          1311109.7934666753,
          1280230.74358832,
          1319485.5126660978,
          1346233.031762984,
          1336924.6616782558,
          1346534.8682246336,
          1341280.2451949806,
          1317958.4829337613,
          1320259.7409142891,
          1340062.6904952559,
          1380161.389453858,
          1370810.874488159,
          1379701.6234310444,
          1383717.6041727567
         ],
         "open": [
          1675285.5757107201,
          1723655.9579088083,
          1744375.302729604,
          1739860.2750526802,
          1694245.6930973965,
          1523173.0085569627,
          1337981.5995913788,
          1399443.7084716447,
          1356469.166279346,
          1358483.4928428102,
          1329584.3408780226,
          1347592.3232789063,
          1354311.2248642393,
          1348924.5031912243,
          1363913.1468846516,
          1354418.9346872284,
          1355766.1596865763,
          1352327.3338302386,
          1307633.742354598,
          1319485.5126660978,
          1348229.3443768928,
          1354084.8262459533,
          1346534.8682246336,
          1347609.0205284376,
          1351781.3822516778,
          1320259.7409142891,
          1340062.6904952559,
          1381143.7992604082,
          1374939.3509541885,
          1381668.4412142534,
          1383717.6041727567
         ],
         "type": "candlestick",
         "x": [
          "2022-11-04",
          "2022-11-05",
          "2022-11-06",
          "2022-11-07",
          "2022-11-08",
          "2022-11-09",
          "2022-11-10",
          "2022-11-11",
          "2022-11-12",
          "2022-11-13",
          "2022-11-14",
          "2022-11-15",
          "2022-11-16",
          "2022-11-17",
          "2022-11-18",
          "2022-11-19",
          "2022-11-20",
          "2022-11-21",
          "2022-11-22",
          "2022-11-23",
          "2022-11-24",
          "2022-11-25",
          "2022-11-26",
          "2022-11-27",
          "2022-11-28",
          "2022-11-29",
          "2022-11-30",
          "2022-12-01",
          "2022-12-02",
          "2022-12-03",
          "2022-12-04"
         ]
        }
       ],
       "layout": {
        "template": {
         "data": {
          "bar": [
           {
            "error_x": {
             "color": "#2a3f5f"
            },
            "error_y": {
             "color": "#2a3f5f"
            },
            "marker": {
             "line": {
              "color": "#E5ECF6",
              "width": 0.5
             },
             "pattern": {
              "fillmode": "overlay",
              "size": 10,
              "solidity": 0.2
             }
            },
            "type": "bar"
           }
          ],
          "barpolar": [
           {
            "marker": {
             "line": {
              "color": "#E5ECF6",
              "width": 0.5
             },
             "pattern": {
              "fillmode": "overlay",
              "size": 10,
              "solidity": 0.2
             }
            },
            "type": "barpolar"
           }
          ],
          "carpet": [
           {
            "aaxis": {
             "endlinecolor": "#2a3f5f",
             "gridcolor": "white",
             "linecolor": "white",
             "minorgridcolor": "white",
             "startlinecolor": "#2a3f5f"
            },
            "baxis": {
             "endlinecolor": "#2a3f5f",
             "gridcolor": "white",
             "linecolor": "white",
             "minorgridcolor": "white",
             "startlinecolor": "#2a3f5f"
            },
            "type": "carpet"
           }
          ],
          "choropleth": [
           {
            "colorbar": {
             "outlinewidth": 0,
             "ticks": ""
            },
            "type": "choropleth"
           }
          ],
          "contour": [
           {
            "colorbar": {
             "outlinewidth": 0,
             "ticks": ""
            },
            "colorscale": [
             [
              0,
              "#0d0887"
             ],
             [
              0.1111111111111111,
              "#46039f"
             ],
             [
              0.2222222222222222,
              "#7201a8"
             ],
             [
              0.3333333333333333,
              "#9c179e"
             ],
             [
              0.4444444444444444,
              "#bd3786"
             ],
             [
              0.5555555555555556,
              "#d8576b"
             ],
             [
              0.6666666666666666,
              "#ed7953"
             ],
             [
              0.7777777777777778,
              "#fb9f3a"
             ],
             [
              0.8888888888888888,
              "#fdca26"
             ],
             [
              1,
              "#f0f921"
             ]
            ],
            "type": "contour"
           }
          ],
          "contourcarpet": [
           {
            "colorbar": {
             "outlinewidth": 0,
             "ticks": ""
            },
            "type": "contourcarpet"
           }
          ],
          "heatmap": [
           {
            "colorbar": {
             "outlinewidth": 0,
             "ticks": ""
            },
            "colorscale": [
             [
              0,
              "#0d0887"
             ],
             [
              0.1111111111111111,
              "#46039f"
             ],
             [
              0.2222222222222222,
              "#7201a8"
             ],
             [
              0.3333333333333333,
              "#9c179e"
             ],
             [
              0.4444444444444444,
              "#bd3786"
             ],
             [
              0.5555555555555556,
              "#d8576b"
             ],
             [
              0.6666666666666666,
              "#ed7953"
             ],
             [
              0.7777777777777778,
              "#fb9f3a"
             ],
             [
              0.8888888888888888,
              "#fdca26"
             ],
             [
              1,
              "#f0f921"
             ]
            ],
            "type": "heatmap"
           }
          ],
          "heatmapgl": [
           {
            "colorbar": {
             "outlinewidth": 0,
             "ticks": ""
            },
            "colorscale": [
             [
              0,
              "#0d0887"
             ],
             [
              0.1111111111111111,
              "#46039f"
             ],
             [
              0.2222222222222222,
              "#7201a8"
             ],
             [
              0.3333333333333333,
              "#9c179e"
             ],
             [
              0.4444444444444444,
              "#bd3786"
             ],
             [
              0.5555555555555556,
              "#d8576b"
             ],
             [
              0.6666666666666666,
              "#ed7953"
             ],
             [
              0.7777777777777778,
              "#fb9f3a"
             ],
             [
              0.8888888888888888,
              "#fdca26"
             ],
             [
              1,
              "#f0f921"
             ]
            ],
            "type": "heatmapgl"
           }
          ],
          "histogram": [
           {
            "marker": {
             "pattern": {
              "fillmode": "overlay",
              "size": 10,
              "solidity": 0.2
             }
            },
            "type": "histogram"
           }
          ],
          "histogram2d": [
           {
            "colorbar": {
             "outlinewidth": 0,
             "ticks": ""
            },
            "colorscale": [
             [
              0,
              "#0d0887"
             ],
             [
              0.1111111111111111,
              "#46039f"
             ],
             [
              0.2222222222222222,
              "#7201a8"
             ],
             [
              0.3333333333333333,
              "#9c179e"
             ],
             [
              0.4444444444444444,
              "#bd3786"
             ],
             [
              0.5555555555555556,
              "#d8576b"
             ],
             [
              0.6666666666666666,
              "#ed7953"
             ],
             [
              0.7777777777777778,
              "#fb9f3a"
             ],
             [
              0.8888888888888888,
              "#fdca26"
             ],
             [
              1,
              "#f0f921"
             ]
            ],
            "type": "histogram2d"
           }
          ],
          "histogram2dcontour": [
           {
            "colorbar": {
             "outlinewidth": 0,
             "ticks": ""
            },
            "colorscale": [
             [
              0,
              "#0d0887"
             ],
             [
              0.1111111111111111,
              "#46039f"
             ],
             [
              0.2222222222222222,
              "#7201a8"
             ],
             [
              0.3333333333333333,
              "#9c179e"
             ],
             [
              0.4444444444444444,
              "#bd3786"
             ],
             [
              0.5555555555555556,
              "#d8576b"
             ],
             [
              0.6666666666666666,
              "#ed7953"
             ],
             [
              0.7777777777777778,
              "#fb9f3a"
             ],
             [
              0.8888888888888888,
              "#fdca26"
             ],
             [
              1,
              "#f0f921"
             ]
            ],
            "type": "histogram2dcontour"
           }
          ],
          "mesh3d": [
           {
            "colorbar": {
             "outlinewidth": 0,
             "ticks": ""
            },
            "type": "mesh3d"
           }
          ],
          "parcoords": [
           {
            "line": {
             "colorbar": {
              "outlinewidth": 0,
              "ticks": ""
             }
            },
            "type": "parcoords"
           }
          ],
          "pie": [
           {
            "automargin": true,
            "type": "pie"
           }
          ],
          "scatter": [
           {
            "marker": {
             "colorbar": {
              "outlinewidth": 0,
              "ticks": ""
             }
            },
            "type": "scatter"
           }
          ],
          "scatter3d": [
           {
            "line": {
             "colorbar": {
              "outlinewidth": 0,
              "ticks": ""
             }
            },
            "marker": {
             "colorbar": {
              "outlinewidth": 0,
              "ticks": ""
             }
            },
            "type": "scatter3d"
           }
          ],
          "scattercarpet": [
           {
            "marker": {
             "colorbar": {
              "outlinewidth": 0,
              "ticks": ""
             }
            },
            "type": "scattercarpet"
           }
          ],
          "scattergeo": [
           {
            "marker": {
             "colorbar": {
              "outlinewidth": 0,
              "ticks": ""
             }
            },
            "type": "scattergeo"
           }
          ],
          "scattergl": [
           {
            "marker": {
             "colorbar": {
              "outlinewidth": 0,
              "ticks": ""
             }
            },
            "type": "scattergl"
           }
          ],
          "scattermapbox": [
           {
            "marker": {
             "colorbar": {
              "outlinewidth": 0,
              "ticks": ""
             }
            },
            "type": "scattermapbox"
           }
          ],
          "scatterpolar": [
           {
            "marker": {
             "colorbar": {
              "outlinewidth": 0,
              "ticks": ""
             }
            },
            "type": "scatterpolar"
           }
          ],
          "scatterpolargl": [
           {
            "marker": {
             "colorbar": {
              "outlinewidth": 0,
              "ticks": ""
             }
            },
            "type": "scatterpolargl"
           }
          ],
          "scatterternary": [
           {
            "marker": {
             "colorbar": {
              "outlinewidth": 0,
              "ticks": ""
             }
            },
            "type": "scatterternary"
           }
          ],
          "surface": [
           {
            "colorbar": {
             "outlinewidth": 0,
             "ticks": ""
            },
            "colorscale": [
             [
              0,
              "#0d0887"
             ],
             [
              0.1111111111111111,
              "#46039f"
             ],
             [
              0.2222222222222222,
              "#7201a8"
             ],
             [
              0.3333333333333333,
              "#9c179e"
             ],
             [
              0.4444444444444444,
              "#bd3786"
             ],
             [
              0.5555555555555556,
              "#d8576b"
             ],
             [
              0.6666666666666666,
              "#ed7953"
             ],
             [
              0.7777777777777778,
              "#fb9f3a"
             ],
             [
              0.8888888888888888,
              "#fdca26"
             ],
             [
              1,
              "#f0f921"
             ]
            ],
            "type": "surface"
           }
          ],
          "table": [
           {
            "cells": {
             "fill": {
              "color": "#EBF0F8"
             },
             "line": {
              "color": "white"
             }
            },
            "header": {
             "fill": {
              "color": "#C8D4E3"
             },
             "line": {
              "color": "white"
             }
            },
            "type": "table"
           }
          ]
         },
         "layout": {
          "annotationdefaults": {
           "arrowcolor": "#2a3f5f",
           "arrowhead": 0,
           "arrowwidth": 1
          },
          "autotypenumbers": "strict",
          "coloraxis": {
           "colorbar": {
            "outlinewidth": 0,
            "ticks": ""
           }
          },
          "colorscale": {
           "diverging": [
            [
             0,
             "#8e0152"
            ],
            [
             0.1,
             "#c51b7d"
            ],
            [
             0.2,
             "#de77ae"
            ],
            [
             0.3,
             "#f1b6da"
            ],
            [
             0.4,
             "#fde0ef"
            ],
            [
             0.5,
             "#f7f7f7"
            ],
            [
             0.6,
             "#e6f5d0"
            ],
            [
             0.7,
             "#b8e186"
            ],
            [
             0.8,
             "#7fbc41"
            ],
            [
             0.9,
             "#4d9221"
            ],
            [
             1,
             "#276419"
            ]
           ],
           "sequential": [
            [
             0,
             "#0d0887"
            ],
            [
             0.1111111111111111,
             "#46039f"
            ],
            [
             0.2222222222222222,
             "#7201a8"
            ],
            [
             0.3333333333333333,
             "#9c179e"
            ],
            [
             0.4444444444444444,
             "#bd3786"
            ],
            [
             0.5555555555555556,
             "#d8576b"
            ],
            [
             0.6666666666666666,
             "#ed7953"
            ],
            [
             0.7777777777777778,
             "#fb9f3a"
            ],
            [
             0.8888888888888888,
             "#fdca26"
            ],
            [
             1,
             "#f0f921"
            ]
           ],
           "sequentialminus": [
            [
             0,
             "#0d0887"
            ],
            [
             0.1111111111111111,
             "#46039f"
            ],
            [
             0.2222222222222222,
             "#7201a8"
            ],
            [
             0.3333333333333333,
             "#9c179e"
            ],
            [
             0.4444444444444444,
             "#bd3786"
            ],
            [
             0.5555555555555556,
             "#d8576b"
            ],
            [
             0.6666666666666666,
             "#ed7953"
            ],
            [
             0.7777777777777778,
             "#fb9f3a"
            ],
            [
             0.8888888888888888,
             "#fdca26"
            ],
            [
             1,
             "#f0f921"
            ]
           ]
          },
          "colorway": [
           "#636efa",
           "#EF553B",
           "#00cc96",
           "#ab63fa",
           "#FFA15A",
           "#19d3f3",
           "#FF6692",
           "#B6E880",
           "#FF97FF",
           "#FECB52"
          ],
          "font": {
           "color": "#2a3f5f"
          },
          "geo": {
           "bgcolor": "white",
           "lakecolor": "white",
           "landcolor": "#E5ECF6",
           "showlakes": true,
           "showland": true,
           "subunitcolor": "white"
          },
          "hoverlabel": {
           "align": "left"
          },
          "hovermode": "closest",
          "mapbox": {
           "style": "light"
          },
          "paper_bgcolor": "white",
          "plot_bgcolor": "#E5ECF6",
          "polar": {
           "angularaxis": {
            "gridcolor": "white",
            "linecolor": "white",
            "ticks": ""
           },
           "bgcolor": "#E5ECF6",
           "radialaxis": {
            "gridcolor": "white",
            "linecolor": "white",
            "ticks": ""
           }
          },
          "scene": {
           "xaxis": {
            "backgroundcolor": "#E5ECF6",
            "gridcolor": "white",
            "gridwidth": 2,
            "linecolor": "white",
            "showbackground": true,
            "ticks": "",
            "zerolinecolor": "white"
           },
           "yaxis": {
            "backgroundcolor": "#E5ECF6",
            "gridcolor": "white",
            "gridwidth": 2,
            "linecolor": "white",
            "showbackground": true,
            "ticks": "",
            "zerolinecolor": "white"
           },
           "zaxis": {
            "backgroundcolor": "#E5ECF6",
            "gridcolor": "white",
            "gridwidth": 2,
            "linecolor": "white",
            "showbackground": true,
            "ticks": "",
            "zerolinecolor": "white"
           }
          },
          "shapedefaults": {
           "line": {
            "color": "#2a3f5f"
           }
          },
          "ternary": {
           "aaxis": {
            "gridcolor": "white",
            "linecolor": "white",
            "ticks": ""
           },
           "baxis": {
            "gridcolor": "white",
            "linecolor": "white",
            "ticks": ""
           },
           "bgcolor": "#E5ECF6",
           "caxis": {
            "gridcolor": "white",
            "linecolor": "white",
            "ticks": ""
           }
          },
          "title": {
           "x": 0.05
          },
          "xaxis": {
           "automargin": true,
           "gridcolor": "white",
           "linecolor": "white",
           "ticks": "",
           "title": {
            "standoff": 15
           },
           "zerolinecolor": "white",
           "zerolinewidth": 2
          },
          "yaxis": {
           "automargin": true,
           "gridcolor": "white",
           "linecolor": "white",
           "ticks": "",
           "title": {
            "standoff": 15
           },
           "zerolinecolor": "white",
           "zerolinewidth": 2
          }
         }
        },
        "xaxis": {
         "rangeslider": {
          "visible": false
         }
        }
       }
      }
     },
     "metadata": {},
     "output_type": "display_data"
    }
   ],
   "source": [
    "import plotly.graph_objects as go\n",
    "fig = go.Figure(data=[go.Candlestick(x=candlestick_data['date'],\n",
    "                open=candlestick_data['Price']['first'],\n",
    "                high=candlestick_data['Price']['max'],\n",
    "                low=candlestick_data['Price']['min'],\n",
    "                close=candlestick_data['Price']['last'])\n",
    "                      ])\n",
    "\n",
    "fig.update_layout(xaxis_rangeslider_visible=False)\n",
    "\n",
    "fig.show()\n"
   ]
  }
 ],
 "metadata": {
  "kernelspec": {
   "display_name": "Python 3.9.6 64-bit",
   "language": "python",
   "name": "python3"
  },
  "language_info": {
   "codemirror_mode": {
    "name": "ipython",
    "version": 3
   },
   "file_extension": ".py",
   "mimetype": "text/x-python",
   "name": "python",
   "nbconvert_exporter": "python",
   "pygments_lexer": "ipython3",
   "version": "3.9.6"
  },
  "orig_nbformat": 4,
  "vscode": {
   "interpreter": {
    "hash": "aee8b7b246df8f9039afb4144a1f6fd8d2ca17a180786b69acc140d282b71a49"
   }
  }
 },
 "nbformat": 4,
 "nbformat_minor": 2
}
